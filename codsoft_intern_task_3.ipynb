{
  "nbformat": 4,
  "nbformat_minor": 0,
  "metadata": {
    "colab": {
      "provenance": [],
      "include_colab_link": true
    },
    "kernelspec": {
      "name": "python3",
      "display_name": "Python 3"
    },
    "language_info": {
      "name": "python"
    }
  },
  "cells": [
    {
      "cell_type": "markdown",
      "metadata": {
        "id": "view-in-github",
        "colab_type": "text"
      },
      "source": [
        "<a href=\"https://colab.research.google.com/github/953622243097/Resume/blob/main/codsoft_intern_task_3.ipynb\" target=\"_parent\"><img src=\"https://colab.research.google.com/assets/colab-badge.svg\" alt=\"Open In Colab\"/></a>"
      ]
    },
    {
      "cell_type": "code",
      "execution_count": null,
      "metadata": {
        "colab": {
          "base_uri": "https://localhost:8080/"
        },
        "id": "w4ErQ1iQI1aM",
        "outputId": "ffde11dd-2239-414c-d572-79de83ae05ae"
      },
      "outputs": [
        {
          "name": "stdout",
          "output_type": "stream",
          "text": [
            "Enter first number: 3\n",
            "Enter second number: 2\n",
            "1.Addition\n",
            "2.Subtraction\n",
            "3.Multiplication\n",
            "4.Division\n",
            "Enter your Choice:1\n",
            "Result: 5.0\n",
            "Do you want to perform another calculation? (yes/no): yes\n",
            "Enter first number: 6\n",
            "Enter second number: 16\n",
            "1.Addition\n",
            "2.Subtraction\n",
            "3.Multiplication\n",
            "4.Division\n",
            "Enter your Choice:4\n",
            "Result: 0.375\n",
            "Do you want to perform another calculation? (yes/no): no\n"
          ]
        }
      ],
      "source": [
        "def add(x, y):\n",
        "    return x + y\n",
        "\n",
        "def subtract(x, y):\n",
        "    return x - y\n",
        "\n",
        "def multiply(x, y):\n",
        "    return x * y\n",
        "\n",
        "def divide(x, y):\n",
        "    if y != 0:\n",
        "        return x / y\n",
        "    else:\n",
        "        return \"Cannot divide by zero\"\n",
        "def calculator():\n",
        "  while True:\n",
        "    num1 = float(input(\"Enter first number: \"))\n",
        "    num2 = float(input(\"Enter second number: \"))\n",
        "    print('1.Addition\\n2.Subtraction\\n3.Multiplication\\n4.Division')\n",
        "    choice=int(input('Enter your Choice:'))\n",
        "    if choice == 1:\n",
        "      result = add(num1, num2)\n",
        "    elif choice ==2:\n",
        "      result = subtract(num1, num2)\n",
        "    elif choice == 3:\n",
        "      result = multiply(num1, num2)\n",
        "    elif choice ==4:\n",
        "      result = divide(num1, num2)\n",
        "    else:\n",
        "      print(\"Invalid Choice\")\n",
        "      continue224\n",
        "\n",
        "    print(\"Result:\",result)\n",
        "    another_calculation = input(\"Do you want to perform another calculation? (yes/no): \")\n",
        "    if another_calculation.lower() != 'yes':\n",
        "      break\n",
        "\n",
        "calculator()\n"
      ]
    }
  ]
}